{
 "cells": [
  {
   "cell_type": "code",
   "execution_count": 288,
   "id": "1c789ca0",
   "metadata": {},
   "outputs": [
    {
     "name": "stderr",
     "output_type": "stream",
     "text": [
      "Cases:\n"
     ]
    }
   ],
   "source": [
    "import tabula\n",
    "from tabula.io import read_pdf\n",
    "import pandas as pd\n",
    "import glob\n",
    "from itertools import chain\n",
    "from joblib import Parallel, delayed\n",
    "import time\n",
    "for handler in logging.root.handlers[:]:\n",
    "    logging.root.removeHandler(handler)\n",
    "\n",
    "logging.basicConfig(level=logging.DEBUG,\n",
    "                    format='%(asctime)s %(message)s',\n",
    "                    datefmt='%a, %d %b %Y %H:%M:%S',\n",
    "                    filename= 'log.txt',\n",
    "                    filemode='w')\n",
    "\n",
    "console = logging.StreamHandler()\n",
    "console.setLevel(logging.INFO)\n",
    "# add the handler to the root logger\n",
    "logging.getLogger().addHandler(console)\n",
    "logging.info(\"Cases:\")"
   ]
  },
  {
   "cell_type": "code",
   "execution_count": 277,
   "id": "9d49d2c6",
   "metadata": {},
   "outputs": [],
   "source": [
    "def strsplit(x):\n",
    "    return(x.split(\" \"))"
   ]
  },
  {
   "cell_type": "code",
   "execution_count": 278,
   "id": "3bf78d3c",
   "metadata": {},
   "outputs": [],
   "source": [
    "path=r\"*.pdf\"\n",
    "files = glob.glob(path)"
   ]
  },
  {
   "cell_type": "code",
   "execution_count": 279,
   "id": "14a56233",
   "metadata": {},
   "outputs": [
    {
     "data": {
      "text/plain": [
       "(9, 6759)"
      ]
     },
     "execution_count": 279,
     "metadata": {},
     "output_type": "execute_result"
    }
   ],
   "source": [
    "len(tables), len(files)"
   ]
  },
  {
   "cell_type": "code",
   "execution_count": 292,
   "id": "9d750e23",
   "metadata": {},
   "outputs": [],
   "source": [
    "l=[]\n",
    "\n",
    "def preprocess(i):\n",
    "    start=time.time()\n",
    "    tables=read_pdf(i,pages=\"all\")\n",
    "    state=tables[0].iloc[0,0].split(\":\")[1].lstrip().capitalize()\n",
    "    district=tables[0].iloc[0,1].split(\":\")[1].lstrip().capitalize()\n",
    "    Class=tables[0].iloc[1,0].split(\":\")[1].lstrip().capitalize()\n",
    "    subject=tables[0].iloc[1,1].split(\":\")[1].lstrip().capitalize()\n",
    "    school=tables[0].iloc[2,0].split(\":\")[1].lstrip().capitalize()\n",
    "    students=tables[0].iloc[2,1].split(\":\")[1].lstrip().capitalize()\n",
    "    no_boys=int(tables[1].iloc[1,1])\n",
    "    no_girls=int(tables[1].iloc[1,-3])\n",
    "    no_rural=int(tables[2].iloc[-1,1])\n",
    "    no_urban=int(tables[1].iloc[1,-3])\n",
    "    no_sc=int(tables[3].iloc[-1,1])\n",
    "    no_st=int(tables[3].iloc[-1,3])\n",
    "    no_obc=int(tables[3].iloc[-1,5].split(\" \")[0])\n",
    "    no_gen=int(tables[3].iloc[-1,7].split(\" \")[0])\n",
    "    ld=int(tables[4].iloc[-1,1])\n",
    "    vi=int(tables[4].iloc[-1,2])\n",
    "    hi=int(tables[4].iloc[-1,3])\n",
    "    sld=int(tables[4].iloc[-1,4])\n",
    "    Id=int(tables[4].iloc[-1,5])\n",
    "    Oth=int(tables[4].iloc[-1,6])\n",
    "    disability_dict={\"LD\":ld,\"VI\":vi,\"HI\":hi,\"S&Ld\":sld,\"ID\":Id,\"OTHER\":Oth}\n",
    "    try:\n",
    "        govt=int(tables[5].iloc[-1,1])\n",
    "        govt_aided=int(tables[5].iloc[-1,3])\n",
    "    except Exception as e:\n",
    "        govt=int(tables[5].iloc[-1,1])\n",
    "        govt_aided=int(tables[5].iloc[-1,-1].split(\" \")[0])\n",
    "    performance_list=list(chain(*list(map(strsplit,tables[6].iloc[-1,:].to_list()))))\n",
    "    ovrall=float(performance_list[0])\n",
    "    per_male=float(performance_list[1])\n",
    "    per_female=float(performance_list[2])\n",
    "    per_rural=float(performance_list[3])\n",
    "    per_urban=float(performance_list[4])\n",
    "    per_govt=float(performance_list[5])\n",
    "    per_aided=float(performance_list[6])\n",
    "    per_sc=float(performance_list[7])\n",
    "    per_st=float(performance_list[8])\n",
    "    per_obc=float(performance_list[9])\n",
    "    per_gen=float(performance_list[10])\n",
    "    xy=tables[7].dropna()\n",
    "    x=xy.iloc[1:,0].dropna().to_list()\n",
    "    y=list(map(float,xy.iloc[1:,-1].dropna().to_list()))\n",
    "    params={}\n",
    "    for i,j in zip(x,y):\n",
    "        params[i]=j\n",
    "    params\n",
    "    performance={\"per_overall\":ovrall,\"per_male\":per_male,\"per_female\":per_female,\n",
    "                \"per_rural\":per_rural,\"per_urban\":per_urban,\"per_govt\":per_govt,\n",
    "                \"per_aided\":per_aided,\"per_sc\":per_sc,\"per_st\":per_st,\"per_obc\":per_obc,\"per_gen\":per_gen}    \n",
    "    frame={\"State\":[state],\"District\":[district],\"Class\":[Class],\"Subject\":[subject],\"No_School\":[school],\"No_Students\":[students],\n",
    "          \"No_Boys\":no_boys,\"No_Girls\":no_girls,\"No_Rural\":no_rural,\"No_Urban\":no_urban,\n",
    "          \"No_SC\":no_sc,\"No_ST\":no_st,\"No_OBC\":no_obc,\"No_GEN\":no_gen,\n",
    "          \"GOVT\":govt,\"GOVT_AIDED\":govt_aided}\n",
    "    frame.update(disability_dict)\n",
    "    frame.update(performance)\n",
    "    frame.update(params)\n",
    "    rang=list(chain(*list(map(strsplit,tables[8].iloc[-1,:].to_list()))))\n",
    "    range_below30=int(rang[0])\n",
    "    range_30_50=int(rang[2])\n",
    "    range_50_75=int(rang[4])\n",
    "    rang_above_75=int(rang[6])\n",
    "    range_performance={\"range_below30\":range_below30,\"range_30_50\":range_30_50,\n",
    "                      \"range_30_50\":range_30_50,\"range_50_75\":range_50_75,\n",
    "                      \"range_above_75\":rang_above_75}\n",
    "    frame.update(range_performance)\n",
    "    end=time.time()\n",
    "    run=end-start\n",
    "    logging.info(\"Cases:\")\n",
    "    logging.info(\"Case No. \",str(i) ,\"and time taken is \",str(run))\n",
    "    return (pd.DataFrame(frame))\n",
    "    "
   ]
  },
  {
   "cell_type": "code",
   "execution_count": 295,
   "id": "1b5ce795",
   "metadata": {},
   "outputs": [
    {
     "ename": "KeyboardInterrupt",
     "evalue": "",
     "output_type": "error",
     "traceback": [
      "\u001b[1;31m---------------------------------------------------------------------------\u001b[0m",
      "\u001b[1;31mKeyboardInterrupt\u001b[0m                         Traceback (most recent call last)",
      "\u001b[1;32mC:\\Users\\GYANES~1\\AppData\\Local\\Temp/ipykernel_8696/3767380948.py\u001b[0m in \u001b[0;36m<module>\u001b[1;34m\u001b[0m\n\u001b[1;32m----> 1\u001b[1;33m \u001b[0mresults\u001b[0m \u001b[1;33m=\u001b[0m \u001b[0mParallel\u001b[0m\u001b[1;33m(\u001b[0m\u001b[0mn_jobs\u001b[0m\u001b[1;33m=\u001b[0m\u001b[1;36m2\u001b[0m\u001b[1;33m)\u001b[0m\u001b[1;33m(\u001b[0m\u001b[0mdelayed\u001b[0m\u001b[1;33m(\u001b[0m\u001b[0mpreprocess\u001b[0m\u001b[1;33m)\u001b[0m\u001b[1;33m(\u001b[0m\u001b[0mi\u001b[0m\u001b[1;33m)\u001b[0m \u001b[1;32mfor\u001b[0m \u001b[0mi\u001b[0m \u001b[1;32min\u001b[0m \u001b[0mfiles\u001b[0m\u001b[1;33m)\u001b[0m\u001b[1;33m\u001b[0m\u001b[1;33m\u001b[0m\u001b[0m\n\u001b[0m",
      "\u001b[1;32mD:\\anaconda3\\lib\\site-packages\\joblib\\parallel.py\u001b[0m in \u001b[0;36m__call__\u001b[1;34m(self, iterable)\u001b[0m\n\u001b[0;32m   1052\u001b[0m \u001b[1;33m\u001b[0m\u001b[0m\n\u001b[0;32m   1053\u001b[0m             \u001b[1;32mwith\u001b[0m \u001b[0mself\u001b[0m\u001b[1;33m.\u001b[0m\u001b[0m_backend\u001b[0m\u001b[1;33m.\u001b[0m\u001b[0mretrieval_context\u001b[0m\u001b[1;33m(\u001b[0m\u001b[1;33m)\u001b[0m\u001b[1;33m:\u001b[0m\u001b[1;33m\u001b[0m\u001b[1;33m\u001b[0m\u001b[0m\n\u001b[1;32m-> 1054\u001b[1;33m                 \u001b[0mself\u001b[0m\u001b[1;33m.\u001b[0m\u001b[0mretrieve\u001b[0m\u001b[1;33m(\u001b[0m\u001b[1;33m)\u001b[0m\u001b[1;33m\u001b[0m\u001b[1;33m\u001b[0m\u001b[0m\n\u001b[0m\u001b[0;32m   1055\u001b[0m             \u001b[1;31m# Make sure that we get a last message telling us we are done\u001b[0m\u001b[1;33m\u001b[0m\u001b[1;33m\u001b[0m\u001b[1;33m\u001b[0m\u001b[0m\n\u001b[0;32m   1056\u001b[0m             \u001b[0melapsed_time\u001b[0m \u001b[1;33m=\u001b[0m \u001b[0mtime\u001b[0m\u001b[1;33m.\u001b[0m\u001b[0mtime\u001b[0m\u001b[1;33m(\u001b[0m\u001b[1;33m)\u001b[0m \u001b[1;33m-\u001b[0m \u001b[0mself\u001b[0m\u001b[1;33m.\u001b[0m\u001b[0m_start_time\u001b[0m\u001b[1;33m\u001b[0m\u001b[1;33m\u001b[0m\u001b[0m\n",
      "\u001b[1;32mD:\\anaconda3\\lib\\site-packages\\joblib\\parallel.py\u001b[0m in \u001b[0;36mretrieve\u001b[1;34m(self)\u001b[0m\n\u001b[0;32m    931\u001b[0m             \u001b[1;32mtry\u001b[0m\u001b[1;33m:\u001b[0m\u001b[1;33m\u001b[0m\u001b[1;33m\u001b[0m\u001b[0m\n\u001b[0;32m    932\u001b[0m                 \u001b[1;32mif\u001b[0m \u001b[0mgetattr\u001b[0m\u001b[1;33m(\u001b[0m\u001b[0mself\u001b[0m\u001b[1;33m.\u001b[0m\u001b[0m_backend\u001b[0m\u001b[1;33m,\u001b[0m \u001b[1;34m'supports_timeout'\u001b[0m\u001b[1;33m,\u001b[0m \u001b[1;32mFalse\u001b[0m\u001b[1;33m)\u001b[0m\u001b[1;33m:\u001b[0m\u001b[1;33m\u001b[0m\u001b[1;33m\u001b[0m\u001b[0m\n\u001b[1;32m--> 933\u001b[1;33m                     \u001b[0mself\u001b[0m\u001b[1;33m.\u001b[0m\u001b[0m_output\u001b[0m\u001b[1;33m.\u001b[0m\u001b[0mextend\u001b[0m\u001b[1;33m(\u001b[0m\u001b[0mjob\u001b[0m\u001b[1;33m.\u001b[0m\u001b[0mget\u001b[0m\u001b[1;33m(\u001b[0m\u001b[0mtimeout\u001b[0m\u001b[1;33m=\u001b[0m\u001b[0mself\u001b[0m\u001b[1;33m.\u001b[0m\u001b[0mtimeout\u001b[0m\u001b[1;33m)\u001b[0m\u001b[1;33m)\u001b[0m\u001b[1;33m\u001b[0m\u001b[1;33m\u001b[0m\u001b[0m\n\u001b[0m\u001b[0;32m    934\u001b[0m                 \u001b[1;32melse\u001b[0m\u001b[1;33m:\u001b[0m\u001b[1;33m\u001b[0m\u001b[1;33m\u001b[0m\u001b[0m\n\u001b[0;32m    935\u001b[0m                     \u001b[0mself\u001b[0m\u001b[1;33m.\u001b[0m\u001b[0m_output\u001b[0m\u001b[1;33m.\u001b[0m\u001b[0mextend\u001b[0m\u001b[1;33m(\u001b[0m\u001b[0mjob\u001b[0m\u001b[1;33m.\u001b[0m\u001b[0mget\u001b[0m\u001b[1;33m(\u001b[0m\u001b[1;33m)\u001b[0m\u001b[1;33m)\u001b[0m\u001b[1;33m\u001b[0m\u001b[1;33m\u001b[0m\u001b[0m\n",
      "\u001b[1;32mD:\\anaconda3\\lib\\site-packages\\joblib\\_parallel_backends.py\u001b[0m in \u001b[0;36mwrap_future_result\u001b[1;34m(future, timeout)\u001b[0m\n\u001b[0;32m    540\u001b[0m         AsyncResults.get from multiprocessing.\"\"\"\n\u001b[0;32m    541\u001b[0m         \u001b[1;32mtry\u001b[0m\u001b[1;33m:\u001b[0m\u001b[1;33m\u001b[0m\u001b[1;33m\u001b[0m\u001b[0m\n\u001b[1;32m--> 542\u001b[1;33m             \u001b[1;32mreturn\u001b[0m \u001b[0mfuture\u001b[0m\u001b[1;33m.\u001b[0m\u001b[0mresult\u001b[0m\u001b[1;33m(\u001b[0m\u001b[0mtimeout\u001b[0m\u001b[1;33m=\u001b[0m\u001b[0mtimeout\u001b[0m\u001b[1;33m)\u001b[0m\u001b[1;33m\u001b[0m\u001b[1;33m\u001b[0m\u001b[0m\n\u001b[0m\u001b[0;32m    543\u001b[0m         \u001b[1;32mexcept\u001b[0m \u001b[0mCfTimeoutError\u001b[0m \u001b[1;32mas\u001b[0m \u001b[0me\u001b[0m\u001b[1;33m:\u001b[0m\u001b[1;33m\u001b[0m\u001b[1;33m\u001b[0m\u001b[0m\n\u001b[0;32m    544\u001b[0m             \u001b[1;32mraise\u001b[0m \u001b[0mTimeoutError\u001b[0m \u001b[1;32mfrom\u001b[0m \u001b[0me\u001b[0m\u001b[1;33m\u001b[0m\u001b[1;33m\u001b[0m\u001b[0m\n",
      "\u001b[1;32mD:\\anaconda3\\lib\\concurrent\\futures\\_base.py\u001b[0m in \u001b[0;36mresult\u001b[1;34m(self, timeout)\u001b[0m\n\u001b[0;32m    437\u001b[0m                     \u001b[1;32mreturn\u001b[0m \u001b[0mself\u001b[0m\u001b[1;33m.\u001b[0m\u001b[0m__get_result\u001b[0m\u001b[1;33m(\u001b[0m\u001b[1;33m)\u001b[0m\u001b[1;33m\u001b[0m\u001b[1;33m\u001b[0m\u001b[0m\n\u001b[0;32m    438\u001b[0m \u001b[1;33m\u001b[0m\u001b[0m\n\u001b[1;32m--> 439\u001b[1;33m                 \u001b[0mself\u001b[0m\u001b[1;33m.\u001b[0m\u001b[0m_condition\u001b[0m\u001b[1;33m.\u001b[0m\u001b[0mwait\u001b[0m\u001b[1;33m(\u001b[0m\u001b[0mtimeout\u001b[0m\u001b[1;33m)\u001b[0m\u001b[1;33m\u001b[0m\u001b[1;33m\u001b[0m\u001b[0m\n\u001b[0m\u001b[0;32m    440\u001b[0m \u001b[1;33m\u001b[0m\u001b[0m\n\u001b[0;32m    441\u001b[0m                 \u001b[1;32mif\u001b[0m \u001b[0mself\u001b[0m\u001b[1;33m.\u001b[0m\u001b[0m_state\u001b[0m \u001b[1;32min\u001b[0m \u001b[1;33m[\u001b[0m\u001b[0mCANCELLED\u001b[0m\u001b[1;33m,\u001b[0m \u001b[0mCANCELLED_AND_NOTIFIED\u001b[0m\u001b[1;33m]\u001b[0m\u001b[1;33m:\u001b[0m\u001b[1;33m\u001b[0m\u001b[1;33m\u001b[0m\u001b[0m\n",
      "\u001b[1;32mD:\\anaconda3\\lib\\threading.py\u001b[0m in \u001b[0;36mwait\u001b[1;34m(self, timeout)\u001b[0m\n\u001b[0;32m    300\u001b[0m         \u001b[1;32mtry\u001b[0m\u001b[1;33m:\u001b[0m    \u001b[1;31m# restore state no matter what (e.g., KeyboardInterrupt)\u001b[0m\u001b[1;33m\u001b[0m\u001b[1;33m\u001b[0m\u001b[0m\n\u001b[0;32m    301\u001b[0m             \u001b[1;32mif\u001b[0m \u001b[0mtimeout\u001b[0m \u001b[1;32mis\u001b[0m \u001b[1;32mNone\u001b[0m\u001b[1;33m:\u001b[0m\u001b[1;33m\u001b[0m\u001b[1;33m\u001b[0m\u001b[0m\n\u001b[1;32m--> 302\u001b[1;33m                 \u001b[0mwaiter\u001b[0m\u001b[1;33m.\u001b[0m\u001b[0macquire\u001b[0m\u001b[1;33m(\u001b[0m\u001b[1;33m)\u001b[0m\u001b[1;33m\u001b[0m\u001b[1;33m\u001b[0m\u001b[0m\n\u001b[0m\u001b[0;32m    303\u001b[0m                 \u001b[0mgotit\u001b[0m \u001b[1;33m=\u001b[0m \u001b[1;32mTrue\u001b[0m\u001b[1;33m\u001b[0m\u001b[1;33m\u001b[0m\u001b[0m\n\u001b[0;32m    304\u001b[0m             \u001b[1;32melse\u001b[0m\u001b[1;33m:\u001b[0m\u001b[1;33m\u001b[0m\u001b[1;33m\u001b[0m\u001b[0m\n",
      "\u001b[1;31mKeyboardInterrupt\u001b[0m: "
     ]
    }
   ],
   "source": [
    "results = Parallel(n_jobs=2)(delayed(preprocess)(i) for i in files)"
   ]
  },
  {
   "cell_type": "code",
   "execution_count": 294,
   "id": "eab1b88a",
   "metadata": {},
   "outputs": [
    {
     "data": {
      "text/html": [
       "<div>\n",
       "<style scoped>\n",
       "    .dataframe tbody tr th:only-of-type {\n",
       "        vertical-align: middle;\n",
       "    }\n",
       "\n",
       "    .dataframe tbody tr th {\n",
       "        vertical-align: top;\n",
       "    }\n",
       "\n",
       "    .dataframe thead th {\n",
       "        text-align: right;\n",
       "    }\n",
       "</style>\n",
       "<table border=\"1\" class=\"dataframe\">\n",
       "  <thead>\n",
       "    <tr style=\"text-align: right;\">\n",
       "      <th></th>\n",
       "      <th>State</th>\n",
       "      <th>District</th>\n",
       "      <th>Class</th>\n",
       "      <th>Subject</th>\n",
       "      <th>No_School</th>\n",
       "      <th>No_Students</th>\n",
       "      <th>No_Boys</th>\n",
       "      <th>No_Girls</th>\n",
       "      <th>No_Rural</th>\n",
       "      <th>No_Urban</th>\n",
       "      <th>...</th>\n",
       "      <th>E313</th>\n",
       "      <th>E314</th>\n",
       "      <th>range_below30</th>\n",
       "      <th>range_30_50</th>\n",
       "      <th>range_50_75</th>\n",
       "      <th>range_above_75</th>\n",
       "      <th>M302</th>\n",
       "      <th>M311</th>\n",
       "      <th>M317</th>\n",
       "      <th>M318</th>\n",
       "    </tr>\n",
       "  </thead>\n",
       "  <tbody>\n",
       "    <tr>\n",
       "      <th>0</th>\n",
       "      <td>Telangana</td>\n",
       "      <td>Adilabad</td>\n",
       "      <td>3</td>\n",
       "      <td>Evs</td>\n",
       "      <td>58</td>\n",
       "      <td>813</td>\n",
       "      <td>365</td>\n",
       "      <td>448</td>\n",
       "      <td>703</td>\n",
       "      <td>448</td>\n",
       "      <td>...</td>\n",
       "      <td>19.18</td>\n",
       "      <td>54.37</td>\n",
       "      <td>204</td>\n",
       "      <td>227</td>\n",
       "      <td>274</td>\n",
       "      <td>108</td>\n",
       "      <td>NaN</td>\n",
       "      <td>NaN</td>\n",
       "      <td>NaN</td>\n",
       "      <td>NaN</td>\n",
       "    </tr>\n",
       "    <tr>\n",
       "      <th>0</th>\n",
       "      <td>Telangana</td>\n",
       "      <td>Adilabad</td>\n",
       "      <td>3</td>\n",
       "      <td>Language</td>\n",
       "      <td>58</td>\n",
       "      <td>813</td>\n",
       "      <td>365</td>\n",
       "      <td>448</td>\n",
       "      <td>703</td>\n",
       "      <td>448</td>\n",
       "      <td>...</td>\n",
       "      <td>NaN</td>\n",
       "      <td>NaN</td>\n",
       "      <td>176</td>\n",
       "      <td>227</td>\n",
       "      <td>297</td>\n",
       "      <td>113</td>\n",
       "      <td>NaN</td>\n",
       "      <td>NaN</td>\n",
       "      <td>NaN</td>\n",
       "      <td>NaN</td>\n",
       "    </tr>\n",
       "    <tr>\n",
       "      <th>0</th>\n",
       "      <td>Telangana</td>\n",
       "      <td>Adilabad</td>\n",
       "      <td>3</td>\n",
       "      <td>Mathematics</td>\n",
       "      <td>58</td>\n",
       "      <td>813</td>\n",
       "      <td>365</td>\n",
       "      <td>448</td>\n",
       "      <td>703</td>\n",
       "      <td>448</td>\n",
       "      <td>...</td>\n",
       "      <td>NaN</td>\n",
       "      <td>NaN</td>\n",
       "      <td>201</td>\n",
       "      <td>203</td>\n",
       "      <td>256</td>\n",
       "      <td>153</td>\n",
       "      <td>63.71</td>\n",
       "      <td>26.52</td>\n",
       "      <td>55.97</td>\n",
       "      <td>46.21</td>\n",
       "    </tr>\n",
       "  </tbody>\n",
       "</table>\n",
       "<p>3 rows × 45 columns</p>\n",
       "</div>"
      ],
      "text/plain": [
       "       State  District Class      Subject No_School No_Students  No_Boys  \\\n",
       "0  Telangana  Adilabad     3          Evs        58         813      365   \n",
       "0  Telangana  Adilabad     3     Language        58         813      365   \n",
       "0  Telangana  Adilabad     3  Mathematics        58         813      365   \n",
       "\n",
       "   No_Girls  No_Rural  No_Urban  ...   E313   E314  range_below30  \\\n",
       "0       448       703       448  ...  19.18  54.37            204   \n",
       "0       448       703       448  ...    NaN    NaN            176   \n",
       "0       448       703       448  ...    NaN    NaN            201   \n",
       "\n",
       "   range_30_50  range_50_75  range_above_75   M302   M311   M317   M318  \n",
       "0          227          274             108    NaN    NaN    NaN    NaN  \n",
       "0          227          297             113    NaN    NaN    NaN    NaN  \n",
       "0          203          256             153  63.71  26.52  55.97  46.21  \n",
       "\n",
       "[3 rows x 45 columns]"
      ]
     },
     "execution_count": 294,
     "metadata": {},
     "output_type": "execute_result"
    }
   ],
   "source": [
    "pd.concat(results)"
   ]
  },
  {
   "cell_type": "code",
   "execution_count": 208,
   "id": "419af11f",
   "metadata": {},
   "outputs": [
    {
     "data": {
      "text/plain": [
       "['612', '47.04', '464', '35.66', '183', '14.07', '42', '3.23']"
      ]
     },
     "execution_count": 208,
     "metadata": {},
     "output_type": "execute_result"
    }
   ],
   "source": [
    "range_list=list(chain(*list(map(strsplit,tables[8].iloc[-1,:].to_list()))))\n",
    "range_list"
   ]
  },
  {
   "cell_type": "code",
   "execution_count": 210,
   "id": "414a9cc6",
   "metadata": {},
   "outputs": [],
   "source": [
    "rang=list(chain(*list(map(strsplit,tables[8].iloc[-1,:].to_list()))))\n",
    "range_below30=int(rang[0])\n",
    "range_30_50=int(rang[2])\n",
    "range_50_75=int(rang[4])\n",
    "rang_above_75=int(rang[6])"
   ]
  },
  {
   "cell_type": "code",
   "execution_count": 116,
   "id": "c4a35c70",
   "metadata": {},
   "outputs": [
    {
     "data": {
      "text/plain": [
       "55"
      ]
     },
     "execution_count": 116,
     "metadata": {},
     "output_type": "execute_result"
    }
   ],
   "source": [
    "no_sc=int(tables[3].iloc[-1,1])\n",
    "no_st=int(tables[3].iloc[-1,3])\n",
    "no_obc=int(tables[3].iloc[-1,5].split(\" \")[0])\n",
    "no_gen=int(tables[3].iloc[-1,7].split(\" \")[0])"
   ]
  },
  {
   "cell_type": "code",
   "execution_count": 144,
   "id": "f564a77d",
   "metadata": {},
   "outputs": [
    {
     "data": {
      "text/html": [
       "<div>\n",
       "<style scoped>\n",
       "    .dataframe tbody tr th:only-of-type {\n",
       "        vertical-align: middle;\n",
       "    }\n",
       "\n",
       "    .dataframe tbody tr th {\n",
       "        vertical-align: top;\n",
       "    }\n",
       "\n",
       "    .dataframe thead th {\n",
       "        text-align: right;\n",
       "    }\n",
       "</style>\n",
       "<table border=\"1\" class=\"dataframe\">\n",
       "  <thead>\n",
       "    <tr style=\"text-align: right;\">\n",
       "      <th></th>\n",
       "      <th>NaN</th>\n",
       "      <th>NaN</th>\n",
       "      <th>NaN</th>\n",
       "      <th>NaN</th>\n",
       "      <th>NaN</th>\n",
       "      <th>NaN</th>\n",
       "    </tr>\n",
       "  </thead>\n",
       "  <tbody>\n",
       "    <tr>\n",
       "      <th>1</th>\n",
       "      <td>LD</td>\n",
       "      <td>VI</td>\n",
       "      <td>HI</td>\n",
       "      <td>S&amp;LD</td>\n",
       "      <td>ID</td>\n",
       "      <td>Oth</td>\n",
       "    </tr>\n",
       "    <tr>\n",
       "      <th>2</th>\n",
       "      <td>1</td>\n",
       "      <td>2</td>\n",
       "      <td>1</td>\n",
       "      <td>1</td>\n",
       "      <td>2</td>\n",
       "      <td>0</td>\n",
       "    </tr>\n",
       "  </tbody>\n",
       "</table>\n",
       "</div>"
      ],
      "text/plain": [
       "  NaN NaN NaN   NaN NaN  NaN\n",
       "1  LD  VI  HI  S&LD  ID  Oth\n",
       "2   1   2   1     1   2    0"
      ]
     },
     "execution_count": 144,
     "metadata": {},
     "output_type": "execute_result"
    }
   ],
   "source": [
    "tables[4].iloc[1:,1:]"
   ]
  },
  {
   "cell_type": "code",
   "execution_count": 78,
   "id": "22f5d91c",
   "metadata": {},
   "outputs": [
    {
     "data": {
      "text/html": [
       "<div>\n",
       "<style scoped>\n",
       "    .dataframe tbody tr th:only-of-type {\n",
       "        vertical-align: middle;\n",
       "    }\n",
       "\n",
       "    .dataframe tbody tr th {\n",
       "        vertical-align: top;\n",
       "    }\n",
       "\n",
       "    .dataframe thead th {\n",
       "        text-align: right;\n",
       "    }\n",
       "</style>\n",
       "<table border=\"1\" class=\"dataframe\">\n",
       "  <thead>\n",
       "    <tr style=\"text-align: right;\">\n",
       "      <th></th>\n",
       "      <th>State</th>\n",
       "      <th>District</th>\n",
       "      <th>Class</th>\n",
       "      <th>Subject</th>\n",
       "      <th>No_School</th>\n",
       "      <th>No_Students</th>\n",
       "    </tr>\n",
       "  </thead>\n",
       "  <tbody>\n",
       "    <tr>\n",
       "      <th>0</th>\n",
       "      <td>Telangana</td>\n",
       "      <td>Adilabad</td>\n",
       "      <td>3</td>\n",
       "      <td>EVS</td>\n",
       "      <td>58</td>\n",
       "      <td>813</td>\n",
       "    </tr>\n",
       "  </tbody>\n",
       "</table>\n",
       "</div>"
      ],
      "text/plain": [
       "       State  District Class Subject No_School No_Students\n",
       "0  Telangana  Adilabad     3     EVS        58         813"
      ]
     },
     "execution_count": 78,
     "metadata": {},
     "output_type": "execute_result"
    }
   ],
   "source": [
    "import pandas as pd\n",
    "pd.DataFrame(frame)"
   ]
  },
  {
   "cell_type": "code",
   "execution_count": 15,
   "id": "6fcc5e9d",
   "metadata": {},
   "outputs": [
    {
     "data": {
      "text/html": [
       "<div>\n",
       "<style scoped>\n",
       "    .dataframe tbody tr th:only-of-type {\n",
       "        vertical-align: middle;\n",
       "    }\n",
       "\n",
       "    .dataframe tbody tr th {\n",
       "        vertical-align: top;\n",
       "    }\n",
       "\n",
       "    .dataframe thead th {\n",
       "        text-align: right;\n",
       "    }\n",
       "</style>\n",
       "<table border=\"1\" class=\"dataframe\">\n",
       "  <thead>\n",
       "    <tr style=\"text-align: right;\">\n",
       "      <th></th>\n",
       "      <th>AREA</th>\n",
       "      <th>Unnamed: 0</th>\n",
       "      <th>Rural</th>\n",
       "      <th>Unnamed: 1</th>\n",
       "      <th>Unnamed: 2</th>\n",
       "      <th>Urban</th>\n",
       "      <th>Unnamed: 3</th>\n",
       "    </tr>\n",
       "  </thead>\n",
       "  <tbody>\n",
       "    <tr>\n",
       "      <th>0</th>\n",
       "      <td>NaN</td>\n",
       "      <td>Number</td>\n",
       "      <td>NaN</td>\n",
       "      <td>%</td>\n",
       "      <td>Number</td>\n",
       "      <td>NaN</td>\n",
       "      <td>%</td>\n",
       "    </tr>\n",
       "    <tr>\n",
       "      <th>1</th>\n",
       "      <td>NaN</td>\n",
       "      <td>703</td>\n",
       "      <td>NaN</td>\n",
       "      <td>86.47</td>\n",
       "      <td>110</td>\n",
       "      <td>NaN</td>\n",
       "      <td>13.53</td>\n",
       "    </tr>\n",
       "  </tbody>\n",
       "</table>\n",
       "</div>"
      ],
      "text/plain": [
       "   AREA Unnamed: 0  Rural Unnamed: 1 Unnamed: 2  Urban Unnamed: 3\n",
       "0   NaN     Number    NaN          %     Number    NaN          %\n",
       "1   NaN        703    NaN      86.47        110    NaN      13.53"
      ]
     },
     "execution_count": 15,
     "metadata": {},
     "output_type": "execute_result"
    }
   ],
   "source": [
    "tables[2]"
   ]
  },
  {
   "cell_type": "code",
   "execution_count": 16,
   "id": "2da9168d",
   "metadata": {},
   "outputs": [
    {
     "data": {
      "text/html": [
       "<div>\n",
       "<style scoped>\n",
       "    .dataframe tbody tr th:only-of-type {\n",
       "        vertical-align: middle;\n",
       "    }\n",
       "\n",
       "    .dataframe tbody tr th {\n",
       "        vertical-align: top;\n",
       "    }\n",
       "\n",
       "    .dataframe thead th {\n",
       "        text-align: right;\n",
       "    }\n",
       "</style>\n",
       "<table border=\"1\" class=\"dataframe\">\n",
       "  <thead>\n",
       "    <tr style=\"text-align: right;\">\n",
       "      <th></th>\n",
       "      <th>Unnamed: 0</th>\n",
       "      <th>SC</th>\n",
       "      <th>Unnamed: 1</th>\n",
       "      <th>ST</th>\n",
       "      <th>Unnamed: 2</th>\n",
       "      <th>OBC</th>\n",
       "      <th>Unnamed: 3</th>\n",
       "      <th>GEN</th>\n",
       "      <th>Unnamed: 4</th>\n",
       "    </tr>\n",
       "  </thead>\n",
       "  <tbody>\n",
       "    <tr>\n",
       "      <th>0</th>\n",
       "      <td>CATEGORY</td>\n",
       "      <td>NaN</td>\n",
       "      <td>NaN</td>\n",
       "      <td>NaN</td>\n",
       "      <td>NaN</td>\n",
       "      <td>NaN</td>\n",
       "      <td>NaN</td>\n",
       "      <td>NaN</td>\n",
       "      <td>NaN</td>\n",
       "    </tr>\n",
       "    <tr>\n",
       "      <th>1</th>\n",
       "      <td>NaN</td>\n",
       "      <td>Number</td>\n",
       "      <td>%</td>\n",
       "      <td>Number</td>\n",
       "      <td>%</td>\n",
       "      <td>Number %</td>\n",
       "      <td>NaN</td>\n",
       "      <td>Number</td>\n",
       "      <td>%</td>\n",
       "    </tr>\n",
       "    <tr>\n",
       "      <th>2</th>\n",
       "      <td>NaN</td>\n",
       "      <td>143</td>\n",
       "      <td>17.59</td>\n",
       "      <td>373</td>\n",
       "      <td>45.88</td>\n",
       "      <td>246 30.26</td>\n",
       "      <td>NaN</td>\n",
       "      <td>51</td>\n",
       "      <td>6.27</td>\n",
       "    </tr>\n",
       "  </tbody>\n",
       "</table>\n",
       "</div>"
      ],
      "text/plain": [
       "  Unnamed: 0      SC Unnamed: 1      ST Unnamed: 2        OBC  Unnamed: 3  \\\n",
       "0   CATEGORY     NaN        NaN     NaN        NaN        NaN         NaN   \n",
       "1        NaN  Number          %  Number          %   Number %         NaN   \n",
       "2        NaN     143      17.59     373      45.88  246 30.26         NaN   \n",
       "\n",
       "      GEN Unnamed: 4  \n",
       "0     NaN        NaN  \n",
       "1  Number          %  \n",
       "2      51       6.27  "
      ]
     },
     "execution_count": 16,
     "metadata": {},
     "output_type": "execute_result"
    }
   ],
   "source": [
    "tables[3]"
   ]
  },
  {
   "cell_type": "code",
   "execution_count": 17,
   "id": "78e8d010",
   "metadata": {},
   "outputs": [
    {
     "data": {
      "text/html": [
       "<div>\n",
       "<style scoped>\n",
       "    .dataframe tbody tr th:only-of-type {\n",
       "        vertical-align: middle;\n",
       "    }\n",
       "\n",
       "    .dataframe tbody tr th {\n",
       "        vertical-align: top;\n",
       "    }\n",
       "\n",
       "    .dataframe thead th {\n",
       "        text-align: right;\n",
       "    }\n",
       "</style>\n",
       "<table border=\"1\" class=\"dataframe\">\n",
       "  <thead>\n",
       "    <tr style=\"text-align: right;\">\n",
       "      <th></th>\n",
       "      <th>CWSN</th>\n",
       "      <th>Unnamed: 0</th>\n",
       "      <th>Unnamed: 1</th>\n",
       "      <th>Unnamed: 2</th>\n",
       "      <th>Unnamed: 3</th>\n",
       "      <th>Unnamed: 4</th>\n",
       "      <th>Unnamed: 5</th>\n",
       "    </tr>\n",
       "  </thead>\n",
       "  <tbody>\n",
       "    <tr>\n",
       "      <th>0</th>\n",
       "      <td>NaN</td>\n",
       "      <td>LD</td>\n",
       "      <td>VI</td>\n",
       "      <td>HI</td>\n",
       "      <td>S&amp;LD</td>\n",
       "      <td>ID</td>\n",
       "      <td>Oth</td>\n",
       "    </tr>\n",
       "    <tr>\n",
       "      <th>1</th>\n",
       "      <td>NaN</td>\n",
       "      <td>1</td>\n",
       "      <td>2</td>\n",
       "      <td>2</td>\n",
       "      <td>1</td>\n",
       "      <td>2</td>\n",
       "      <td>1</td>\n",
       "    </tr>\n",
       "  </tbody>\n",
       "</table>\n",
       "</div>"
      ],
      "text/plain": [
       "   CWSN Unnamed: 0 Unnamed: 1 Unnamed: 2 Unnamed: 3 Unnamed: 4 Unnamed: 5\n",
       "0   NaN         LD         VI         HI       S&LD         ID        Oth\n",
       "1   NaN          1          2          2          1          2          1"
      ]
     },
     "execution_count": 17,
     "metadata": {},
     "output_type": "execute_result"
    }
   ],
   "source": [
    "tables[4]"
   ]
  },
  {
   "cell_type": "code",
   "execution_count": 18,
   "id": "1e31724f",
   "metadata": {},
   "outputs": [
    {
     "data": {
      "text/html": [
       "<div>\n",
       "<style scoped>\n",
       "    .dataframe tbody tr th:only-of-type {\n",
       "        vertical-align: middle;\n",
       "    }\n",
       "\n",
       "    .dataframe tbody tr th {\n",
       "        vertical-align: top;\n",
       "    }\n",
       "\n",
       "    .dataframe thead th {\n",
       "        text-align: right;\n",
       "    }\n",
       "</style>\n",
       "<table border=\"1\" class=\"dataframe\">\n",
       "  <thead>\n",
       "    <tr style=\"text-align: right;\">\n",
       "      <th></th>\n",
       "      <th>Management</th>\n",
       "      <th>Government</th>\n",
       "      <th>Unnamed: 0</th>\n",
       "      <th>Government-aided</th>\n",
       "      <th>Unnamed: 1</th>\n",
       "    </tr>\n",
       "  </thead>\n",
       "  <tbody>\n",
       "    <tr>\n",
       "      <th>0</th>\n",
       "      <td>NaN</td>\n",
       "      <td>Number</td>\n",
       "      <td>%</td>\n",
       "      <td>Number</td>\n",
       "      <td>%</td>\n",
       "    </tr>\n",
       "    <tr>\n",
       "      <th>1</th>\n",
       "      <td>NaN</td>\n",
       "      <td>791</td>\n",
       "      <td>97.29</td>\n",
       "      <td>22</td>\n",
       "      <td>2.71</td>\n",
       "    </tr>\n",
       "  </tbody>\n",
       "</table>\n",
       "</div>"
      ],
      "text/plain": [
       "   Management Government Unnamed: 0 Government-aided Unnamed: 1\n",
       "0         NaN     Number          %           Number          %\n",
       "1         NaN        791      97.29               22       2.71"
      ]
     },
     "execution_count": 18,
     "metadata": {},
     "output_type": "execute_result"
    }
   ],
   "source": [
    "tables[5]"
   ]
  },
  {
   "cell_type": "code",
   "execution_count": 19,
   "id": "3f55ad20",
   "metadata": {},
   "outputs": [
    {
     "data": {
      "text/html": [
       "<div>\n",
       "<style scoped>\n",
       "    .dataframe tbody tr th:only-of-type {\n",
       "        vertical-align: middle;\n",
       "    }\n",
       "\n",
       "    .dataframe tbody tr th {\n",
       "        vertical-align: top;\n",
       "    }\n",
       "\n",
       "    .dataframe thead th {\n",
       "        text-align: right;\n",
       "    }\n",
       "</style>\n",
       "<table border=\"1\" class=\"dataframe\">\n",
       "  <thead>\n",
       "    <tr style=\"text-align: right;\">\n",
       "      <th></th>\n",
       "      <th>Unnamed: 0</th>\n",
       "      <th>Average Performance of Students in EVS (%)</th>\n",
       "      <th>Unnamed: 1</th>\n",
       "    </tr>\n",
       "  </thead>\n",
       "  <tbody>\n",
       "    <tr>\n",
       "      <th>0</th>\n",
       "      <td>NaN</td>\n",
       "      <td>Gender Area Management Social Group</td>\n",
       "      <td>NaN</td>\n",
       "    </tr>\n",
       "    <tr>\n",
       "      <th>1</th>\n",
       "      <td>Overall</td>\n",
       "      <td>NaN</td>\n",
       "      <td>NaN</td>\n",
       "    </tr>\n",
       "    <tr>\n",
       "      <th>2</th>\n",
       "      <td>NaN</td>\n",
       "      <td>Male Female Rural Urban Govt. Aided SC ST OBC</td>\n",
       "      <td>GEN</td>\n",
       "    </tr>\n",
       "    <tr>\n",
       "      <th>3</th>\n",
       "      <td>48.40</td>\n",
       "      <td>47.27 49.32 48.09 50.36 48.32 51.21 49.04 46.7...</td>\n",
       "      <td>57.52</td>\n",
       "    </tr>\n",
       "  </tbody>\n",
       "</table>\n",
       "</div>"
      ],
      "text/plain": [
       "  Unnamed: 0         Average Performance of Students in EVS (%) Unnamed: 1\n",
       "0        NaN                Gender Area Management Social Group        NaN\n",
       "1    Overall                                                NaN        NaN\n",
       "2        NaN      Male Female Rural Urban Govt. Aided SC ST OBC        GEN\n",
       "3      48.40  47.27 49.32 48.09 50.36 48.32 51.21 49.04 46.7...      57.52"
      ]
     },
     "execution_count": 19,
     "metadata": {},
     "output_type": "execute_result"
    }
   ],
   "source": [
    "tables[6]"
   ]
  },
  {
   "cell_type": "code",
   "execution_count": 199,
   "id": "85ce709c",
   "metadata": {},
   "outputs": [
    {
     "data": {
      "text/plain": [
       "{'SST605': 49.12,\n",
       " 'SST610': 16.87,\n",
       " 'SST625': 28.07,\n",
       " 'SST703': 36.43,\n",
       " 'SST704': 37.42,\n",
       " 'SST722': 31.9,\n",
       " 'SST726': 48.84,\n",
       " 'SST731': 43.45,\n",
       " 'SST733': 35.89,\n",
       " 'SST734': 38.83,\n",
       " 'SST802': 44.35,\n",
       " 'SST805': 33.59,\n",
       " 'SST807': 42.02,\n",
       " 'SST809': 32.05,\n",
       " 'SST810': 32.05,\n",
       " 'SST815': 24.85,\n",
       " 'SST816': 28.21,\n",
       " 'SST818': 22.44,\n",
       " 'SST823': 19.83,\n",
       " 'SST827': 24.85,\n",
       " 'SST831': 26.98,\n",
       " 'SST833': 48.23}"
      ]
     },
     "execution_count": 199,
     "metadata": {},
     "output_type": "execute_result"
    }
   ],
   "source": [
    "x=tables[7].iloc[1:,0].dropna().to_list()\n",
    "y=list(map(float,tables[7].iloc[1:,-1].dropna().to_list()))\n",
    "params={}\n",
    "for i,j in zip(x,y):\n",
    "    params[i]=j\n",
    "params"
   ]
  },
  {
   "cell_type": "code",
   "execution_count": 189,
   "id": "d3e31c40",
   "metadata": {},
   "outputs": [
    {
     "data": {
      "text/plain": [
       "0     Performance(%)\n",
       "1              49.12\n",
       "2              16.87\n",
       "3              28.07\n",
       "4              36.43\n",
       "5              37.42\n",
       "6              31.90\n",
       "7              48.84\n",
       "8              43.45\n",
       "9              35.89\n",
       "10             38.83\n",
       "11             44.35\n",
       "12             33.59\n",
       "13             42.02\n",
       "14             32.05\n",
       "15             32.05\n",
       "16             24.85\n",
       "17             28.21\n",
       "18             22.44\n",
       "19             19.83\n",
       "20             24.85\n",
       "21             26.98\n",
       "22             48.23\n",
       "Name: Average, dtype: object"
      ]
     },
     "execution_count": 189,
     "metadata": {},
     "output_type": "execute_result"
    }
   ],
   "source": [
    "tables[7].iloc[:,-1].dropna()"
   ]
  },
  {
   "cell_type": "code",
   "execution_count": 21,
   "id": "60fdd92a",
   "metadata": {},
   "outputs": [
    {
     "data": {
      "text/html": [
       "<div>\n",
       "<style scoped>\n",
       "    .dataframe tbody tr th:only-of-type {\n",
       "        vertical-align: middle;\n",
       "    }\n",
       "\n",
       "    .dataframe tbody tr th {\n",
       "        vertical-align: top;\n",
       "    }\n",
       "\n",
       "    .dataframe thead th {\n",
       "        text-align: right;\n",
       "    }\n",
       "</style>\n",
       "<table border=\"1\" class=\"dataframe\">\n",
       "  <thead>\n",
       "    <tr style=\"text-align: right;\">\n",
       "      <th></th>\n",
       "      <th>Unnamed: 0</th>\n",
       "      <th>Range of Performance of Students who Answered Correctly</th>\n",
       "      <th>Unnamed: 1</th>\n",
       "    </tr>\n",
       "  </thead>\n",
       "  <tbody>\n",
       "    <tr>\n",
       "      <th>0</th>\n",
       "      <td>Below 30%</td>\n",
       "      <td>30% - 50% 50% - 75% Above 75%</td>\n",
       "      <td>NaN</td>\n",
       "    </tr>\n",
       "    <tr>\n",
       "      <th>1</th>\n",
       "      <td>Number</td>\n",
       "      <td>% Number % Number % Number</td>\n",
       "      <td>%</td>\n",
       "    </tr>\n",
       "    <tr>\n",
       "      <th>2</th>\n",
       "      <td>204 25.09</td>\n",
       "      <td>227 27.92 274 33.70 108</td>\n",
       "      <td>13.28</td>\n",
       "    </tr>\n",
       "  </tbody>\n",
       "</table>\n",
       "</div>"
      ],
      "text/plain": [
       "  Unnamed: 0 Range of Performance of Students who Answered Correctly  \\\n",
       "0  Below 30%                      30% - 50% 50% - 75% Above 75%        \n",
       "1     Number                         % Number % Number % Number        \n",
       "2  204 25.09                            227 27.92 274 33.70 108        \n",
       "\n",
       "  Unnamed: 1  \n",
       "0        NaN  \n",
       "1          %  \n",
       "2      13.28  "
      ]
     },
     "execution_count": 21,
     "metadata": {},
     "output_type": "execute_result"
    }
   ],
   "source": [
    "tables[8]"
   ]
  },
  {
   "cell_type": "code",
   "execution_count": 37,
   "id": "c2112f5c",
   "metadata": {},
   "outputs": [
    {
     "data": {
      "text/html": [
       "<div>\n",
       "<style scoped>\n",
       "    .dataframe tbody tr th:only-of-type {\n",
       "        vertical-align: middle;\n",
       "    }\n",
       "\n",
       "    .dataframe tbody tr th {\n",
       "        vertical-align: top;\n",
       "    }\n",
       "\n",
       "    .dataframe thead th {\n",
       "        text-align: right;\n",
       "    }\n",
       "</style>\n",
       "<table border=\"1\" class=\"dataframe\">\n",
       "  <thead>\n",
       "    <tr style=\"text-align: right;\">\n",
       "      <th></th>\n",
       "      <th>Unnamed: 0</th>\n",
       "      <th>Average Performance of Students in EVS (%)</th>\n",
       "      <th>Unnamed: 1</th>\n",
       "    </tr>\n",
       "  </thead>\n",
       "  <tbody>\n",
       "    <tr>\n",
       "      <th>0</th>\n",
       "      <td>NaN</td>\n",
       "      <td>Gender Area Management Social Group</td>\n",
       "      <td>NaN</td>\n",
       "    </tr>\n",
       "    <tr>\n",
       "      <th>1</th>\n",
       "      <td>Overall</td>\n",
       "      <td>NaN</td>\n",
       "      <td>NaN</td>\n",
       "    </tr>\n",
       "    <tr>\n",
       "      <th>2</th>\n",
       "      <td>NaN</td>\n",
       "      <td>Male Female Rural Urban Govt. Aided SC ST OBC</td>\n",
       "      <td>GEN</td>\n",
       "    </tr>\n",
       "    <tr>\n",
       "      <th>3</th>\n",
       "      <td>48.40</td>\n",
       "      <td>47.27 49.32 48.09 50.36 48.32 51.21 49.04 46.7...</td>\n",
       "      <td>57.52</td>\n",
       "    </tr>\n",
       "  </tbody>\n",
       "</table>\n",
       "</div>"
      ],
      "text/plain": [
       "  Unnamed: 0         Average Performance of Students in EVS (%) Unnamed: 1\n",
       "0        NaN                Gender Area Management Social Group        NaN\n",
       "1    Overall                                                NaN        NaN\n",
       "2        NaN      Male Female Rural Urban Govt. Aided SC ST OBC        GEN\n",
       "3      48.40  47.27 49.32 48.09 50.36 48.32 51.21 49.04 46.7...      57.52"
      ]
     },
     "execution_count": 37,
     "metadata": {},
     "output_type": "execute_result"
    }
   ],
   "source": [
    "tables[6]\n"
   ]
  },
  {
   "cell_type": "code",
   "execution_count": 38,
   "id": "7e719db4",
   "metadata": {},
   "outputs": [
    {
     "data": {
      "text/html": [
       "<div>\n",
       "<style scoped>\n",
       "    .dataframe tbody tr th:only-of-type {\n",
       "        vertical-align: middle;\n",
       "    }\n",
       "\n",
       "    .dataframe tbody tr th {\n",
       "        vertical-align: top;\n",
       "    }\n",
       "\n",
       "    .dataframe thead th {\n",
       "        text-align: right;\n",
       "    }\n",
       "</style>\n",
       "<table border=\"1\" class=\"dataframe\">\n",
       "  <thead>\n",
       "    <tr style=\"text-align: right;\">\n",
       "      <th></th>\n",
       "      <th>Unnamed: 0</th>\n",
       "      <th>Range of Performance of Students who Answered Correctly</th>\n",
       "      <th>Unnamed: 1</th>\n",
       "    </tr>\n",
       "  </thead>\n",
       "  <tbody>\n",
       "    <tr>\n",
       "      <th>0</th>\n",
       "      <td>Below 30%</td>\n",
       "      <td>30% - 50% 50% - 75% Above 75%</td>\n",
       "      <td>NaN</td>\n",
       "    </tr>\n",
       "    <tr>\n",
       "      <th>1</th>\n",
       "      <td>Number</td>\n",
       "      <td>% Number % Number % Number</td>\n",
       "      <td>%</td>\n",
       "    </tr>\n",
       "    <tr>\n",
       "      <th>2</th>\n",
       "      <td>204 25.09</td>\n",
       "      <td>227 27.92 274 33.70 108</td>\n",
       "      <td>13.28</td>\n",
       "    </tr>\n",
       "  </tbody>\n",
       "</table>\n",
       "</div>"
      ],
      "text/plain": [
       "  Unnamed: 0 Range of Performance of Students who Answered Correctly  \\\n",
       "0  Below 30%                      30% - 50% 50% - 75% Above 75%        \n",
       "1     Number                         % Number % Number % Number        \n",
       "2  204 25.09                            227 27.92 274 33.70 108        \n",
       "\n",
       "  Unnamed: 1  \n",
       "0        NaN  \n",
       "1          %  \n",
       "2      13.28  "
      ]
     },
     "execution_count": 38,
     "metadata": {},
     "output_type": "execute_result"
    }
   ],
   "source": [
    "tables[8]"
   ]
  },
  {
   "cell_type": "code",
   "execution_count": 41,
   "id": "d4ff79bb",
   "metadata": {},
   "outputs": [],
   "source": [
    "x=tables[8].iloc[-1,0]+\" \"+tables[8].iloc[-1,1]+\" \"+tables[8].iloc[-1,2]\n",
    "y=tables[8].iloc[0,0]+\" \"+tables[8].iloc[0,1]"
   ]
  },
  {
   "cell_type": "code",
   "execution_count": 42,
   "id": "cc9e754d",
   "metadata": {},
   "outputs": [
    {
     "data": {
      "text/plain": [
       "'204 25.09 227 27.92 274 33.70 108 13.28'"
      ]
     },
     "execution_count": 42,
     "metadata": {},
     "output_type": "execute_result"
    }
   ],
   "source": [
    "x"
   ]
  },
  {
   "cell_type": "code",
   "execution_count": 43,
   "id": "74767163",
   "metadata": {},
   "outputs": [
    {
     "data": {
      "text/plain": [
       "['204', '25.09', '227', '27.92', '274', '33.70', '108', '13.28']"
      ]
     },
     "execution_count": 43,
     "metadata": {},
     "output_type": "execute_result"
    }
   ],
   "source": [
    "x.split(' ')"
   ]
  },
  {
   "cell_type": "code",
   "execution_count": 46,
   "id": "d2664007",
   "metadata": {},
   "outputs": [
    {
     "data": {
      "text/plain": [
       "'Below 30% 30% - 50% 50% - 75% Above 75%'"
      ]
     },
     "execution_count": 46,
     "metadata": {},
     "output_type": "execute_result"
    }
   ],
   "source": [
    "y"
   ]
  },
  {
   "cell_type": "code",
   "execution_count": 53,
   "id": "b6ffdfde",
   "metadata": {},
   "outputs": [
    {
     "ename": "NameError",
     "evalue": "name 'na' is not defined",
     "output_type": "error",
     "traceback": [
      "\u001b[1;31m---------------------------------------------------------------------------\u001b[0m",
      "\u001b[1;31mNameError\u001b[0m                                 Traceback (most recent call last)",
      "\u001b[1;32mC:\\Users\\GYANES~1\\AppData\\Local\\Temp/ipykernel_8696/3600942905.py\u001b[0m in \u001b[0;36m<module>\u001b[1;34m\u001b[0m\n\u001b[1;32m----> 1\u001b[1;33m \u001b[0mna\u001b[0m\u001b[1;33m.\u001b[0m\u001b[0momit\u001b[0m\u001b[1;33m(\u001b[0m\u001b[0mtables\u001b[0m\u001b[1;33m[\u001b[0m\u001b[1;36m7\u001b[0m\u001b[1;33m]\u001b[0m\u001b[1;33m.\u001b[0m\u001b[0miloc\u001b[0m\u001b[1;33m[\u001b[0m\u001b[1;33m:\u001b[0m\u001b[1;33m,\u001b[0m\u001b[1;36m0\u001b[0m\u001b[1;33m]\u001b[0m\u001b[1;33m)\u001b[0m\u001b[1;33m\u001b[0m\u001b[1;33m\u001b[0m\u001b[0m\n\u001b[0m",
      "\u001b[1;31mNameError\u001b[0m: name 'na' is not defined"
     ]
    }
   ],
   "source": [
    "na.omit(tables[7].iloc[:,0])"
   ]
  },
  {
   "cell_type": "code",
   "execution_count": 54,
   "id": "db7cd2ab",
   "metadata": {},
   "outputs": [],
   "source": [
    "import pandas"
   ]
  },
  {
   "cell_type": "code",
   "execution_count": 56,
   "id": "f8a99fef",
   "metadata": {},
   "outputs": [
    {
     "data": {
      "text/plain": [
       "1     Outcomes\n",
       "3         E302\n",
       "5         E303\n",
       "8         E304\n",
       "12        E305\n",
       "15        E307\n",
       "18        E309\n",
       "21        E310\n",
       "24        E311\n",
       "26        E313\n",
       "28        E314\n",
       "Name: Learning, dtype: object"
      ]
     },
     "execution_count": 56,
     "metadata": {},
     "output_type": "execute_result"
    }
   ],
   "source": [
    "na.omit(tables[7].iloc[:,0])"
   ]
  },
  {
   "cell_type": "code",
   "execution_count": 57,
   "id": "ddac8327",
   "metadata": {},
   "outputs": [
    {
     "data": {
      "text/plain": [
       "1     Performance(%)\n",
       "3              38.38\n",
       "5              45.56\n",
       "8              51.76\n",
       "12             54.37\n",
       "15             51.90\n",
       "18             38.13\n",
       "21             44.77\n",
       "24             39.98\n",
       "26             19.18\n",
       "28             54.37\n",
       "Name: Average, dtype: object"
      ]
     },
     "execution_count": 57,
     "metadata": {},
     "output_type": "execute_result"
    }
   ],
   "source": [
    "tables[7].iloc[:,-1].dropna()"
   ]
  },
  {
   "cell_type": "code",
   "execution_count": 296,
   "id": "6eb0952d",
   "metadata": {},
   "outputs": [
    {
     "ename": "NameError",
     "evalue": "name 'file' is not defined",
     "output_type": "error",
     "traceback": [
      "\u001b[1;31m---------------------------------------------------------------------------\u001b[0m",
      "\u001b[1;31mNameError\u001b[0m                                 Traceback (most recent call last)",
      "\u001b[1;32mC:\\Users\\GYANES~1\\AppData\\Local\\Temp/ipykernel_8696/1037202845.py\u001b[0m in \u001b[0;36m<module>\u001b[1;34m\u001b[0m\n\u001b[1;32m----> 1\u001b[1;33m \u001b[1;32mwith\u001b[0m \u001b[0mfile\u001b[0m\u001b[1;33m.\u001b[0m\u001b[0mopen\u001b[0m\u001b[1;33m(\u001b[0m\u001b[1;34m\"test1.txt\"\u001b[0m\u001b[1;33m,\u001b[0m\u001b[1;34m\"w\"\u001b[0m\u001b[1;33m)\u001b[0m \u001b[1;32mas\u001b[0m \u001b[0mf\u001b[0m\u001b[1;33m:\u001b[0m\u001b[1;33m\u001b[0m\u001b[1;33m\u001b[0m\u001b[0m\n\u001b[0m\u001b[0;32m      2\u001b[0m     \u001b[0mf\u001b[0m\u001b[1;33m.\u001b[0m\u001b[0mwrite\u001b[0m\u001b[1;33m(\u001b[0m\u001b[1;34m\"123\"\u001b[0m\u001b[1;33m)\u001b[0m\u001b[1;33m\u001b[0m\u001b[1;33m\u001b[0m\u001b[0m\n\u001b[0;32m      3\u001b[0m     \u001b[0mf\u001b[0m\u001b[1;33m.\u001b[0m\u001b[0mclose\u001b[0m\u001b[1;33m(\u001b[0m\u001b[1;33m)\u001b[0m\u001b[1;33m\u001b[0m\u001b[1;33m\u001b[0m\u001b[0m\n",
      "\u001b[1;31mNameError\u001b[0m: name 'file' is not defined"
     ]
    }
   ],
   "source": [
    "with file.open(\"test1.txt\",\"w\") as f:\n",
    "    f.write(\"123\")\n",
    "    f.close()"
   ]
  },
  {
   "cell_type": "code",
   "execution_count": 297,
   "id": "5f9b3076",
   "metadata": {},
   "outputs": [],
   "source": [
    "f=open(\"log.txt\",\"w\")\n",
    "f.write(i)\n",
    "f.close()"
   ]
  },
  {
   "cell_type": "code",
   "execution_count": null,
   "id": "8ca5c00b",
   "metadata": {},
   "outputs": [],
   "source": []
  }
 ],
 "metadata": {
  "kernelspec": {
   "display_name": "Python 3 (ipykernel)",
   "language": "python",
   "name": "python3"
  },
  "language_info": {
   "codemirror_mode": {
    "name": "ipython",
    "version": 3
   },
   "file_extension": ".py",
   "mimetype": "text/x-python",
   "name": "python",
   "nbconvert_exporter": "python",
   "pygments_lexer": "ipython3",
   "version": "3.8.11"
  }
 },
 "nbformat": 4,
 "nbformat_minor": 5
}
